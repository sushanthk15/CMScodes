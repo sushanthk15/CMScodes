{
 "cells": [
  {
   "cell_type": "code",
   "execution_count": null,
   "metadata": {},
   "outputs": [],
   "source": [
    "import numpy as np\n",
    "import matplotlib.pyplot as plt"
   ]
  },
  {
   "cell_type": "code",
   "execution_count": null,
   "metadata": {},
   "outputs": [],
   "source": [
    "def K_t(y):\n",
    "    G = np.array([[(4*y[0,0]**2) + y[1,0]**2 + 2*y[0,0]*y[1,0] - y[1,0] -2 ],[2*y[0,0]**2 + y[1,0]**2 + 3*y[0,0]*y[1,0] - 3]])\n",
    "    dho_G = np.array([[8*y[0,0] + 2*y[1,0] , 2*y[1,0] + 2*y[0,0] -1], [4*y[0,0] + 3*y[1,0] , 2*y[1,0] + 3*y[0,0]]])\n",
    "    return G, dho_G"
   ]
  },
  {
   "cell_type": "code",
   "execution_count": null,
   "metadata": {},
   "outputs": [],
   "source": [
    "#y0 = np.array([[0.4],[0.9]])\n",
    "#y_old = y0\n",
    "#xy_values = y0\n",
    "#for k in range(3):\n",
    "#    G, dho_G = K_t(y_old)\n",
    "#    delta_y = np.matmul(np.linalg.inv(dho_G), -1*G)\n",
    "#    y_new = y_old + delta_y\n",
    "#    y_old = y_new\n",
    "#    xy_values = np.append (xy_values , y_new, axis = 1)\n",
    "#A, B  = K_t(y_new)    \n",
    "#temp = np.sqrt(np.dot(A.transpose(),A))\n",
    "#if temp < 1e-6:\n",
    "#    print('It was Success','\\n', 'ynew =','\\n', y_new,'\\n','\\n','G=','\\n',A,'\\n','\\n', 'Tangent stiffness matrix:','\\n', B)\n",
    "#if np.max(delta_y) <1e-8:\n",
    "#    print('true')\n",
    "#else:\n",
    "#    print('\\n','False',temp)\n",
    "#np.max(temp)"
   ]
  },
  {
   "cell_type": "code",
   "execution_count": null,
   "metadata": {},
   "outputs": [],
   "source": [
    "#y0 = np.array([[0.4],[0.9]])\n",
    "#y_old = [y0]\n",
    "#k = 0\n",
    "#iteration = [0]\n",
    "#mod_Gy = [np.sqrt(np.dot(y_old.transpose(),y_old))]\n",
    "#for i in y_old:\n",
    "#    if (np.sqrt(np.dot(i.transpose(),i)) < 1e-8 && delta_y < 1e-10):\n",
    "#        A, B  = K_t(i)\n",
    "#        print('It was Success','\\n', 'ynew =','\\n', y_old,'\\n','\\n','G=','\\n',A,'\\n','\\n', 'Tangent stiffness matrix:','\\n', B)\n",
    "#    else:\n",
    "#        G, dho_G = K_t(i)\n",
    "#        delta_y = np.matmul(np.linalg.inv(dho_G), -1*G)\n",
    "#        y_new = y_old + delta_y\n",
    "#        y_old = y_new\n",
    "#        iteration.append(k+1)\n",
    "#        mod_Gy.append(np.sqrt(np.dot(y_old.transpose(),y_old)))"
   ]
  },
  {
   "cell_type": "code",
   "execution_count": null,
   "metadata": {},
   "outputs": [],
   "source": [
    "y0 = np.array([[0.4],[0.9]])\n",
    "y = [y0]\n",
    "k = 0\n",
    "iteration = [0]\n",
    "mod_Gy =[]\n",
    "#mod_Gy = np.zeros((1,1))\n",
    "#mod_Gy = [np.sqrt(np.dot(y_old.transpose(),y_old))]\n",
    "for i in y:\n",
    "    G, dho_G = K_t(i)\n",
    "    delta_y = np.matmul(np.linalg.inv(dho_G), -1*G)\n",
    "    y_old = i\n",
    "    G_y= np.sqrt(np.dot(G.transpose(),G))\n",
    "    #np.concatenate((mod_Gy, G_y),axis=None)\n",
    "    if (np.sqrt(np.dot(G.transpose(),G)) < 1e-8 and np.sqrt(np.dot(delta_y.transpose(),delta_y)) < 1e-10):\n",
    "        print('The initial guess was :', '\\n',y[0])\n",
    "        print('\\n','It was Success','\\n', 'ynew =','\\n', y_old,'\\n','\\n','G=','\\n',G,'\\n','\\n', 'Tangent stiffness matrix:','\\n', dho_G)\n",
    "        print('\\n','the number of iterations is', iteration,'\\n', np.sqrt(np.dot(G.transpose(),G)))\n",
    "    else:\n",
    "        y_new = y_old + delta_y\n",
    "        y_old = y_new\n",
    "        k = k+1\n",
    "        iteration.append(k)\n",
    "        mod_Gy.append(G_y.tolist())\n",
    "        y.append(y_old)"
   ]
  },
  {
   "cell_type": "code",
   "execution_count": null,
   "metadata": {},
   "outputs": [],
   "source": [
    "print(iteration, mod_Gy)"
   ]
  },
  {
   "cell_type": "code",
   "execution_count": null,
   "metadata": {},
   "outputs": [],
   "source": [
    " a = np.zeros((1,1))\n",
    "s = np.sqrt(np.dot(G.transpose(),G))\n",
    "t= np.concatenate((mod_Gy, G_y), axis=None)\n",
    "print(t)\n",
    "plt.plot(np.asarray(iteration[1:]), np.log10(t[1:]))"
   ]
  }
 ],
 "metadata": {
  "kernelspec": {
   "display_name": "Python 3",
   "language": "python",
   "name": "python3"
  },
  "language_info": {
   "codemirror_mode": {
    "name": "ipython",
    "version": 3
   },
   "file_extension": ".py",
   "mimetype": "text/x-python",
   "name": "python",
   "nbconvert_exporter": "python",
   "pygments_lexer": "ipython3",
   "version": "3.7.3"
  }
 },
 "nbformat": 4,
 "nbformat_minor": 2
}
