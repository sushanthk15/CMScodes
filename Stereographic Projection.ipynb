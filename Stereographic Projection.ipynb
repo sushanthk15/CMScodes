{
 "cells": [
  {
   "cell_type": "code",
   "execution_count": null,
   "metadata": {},
   "outputs": [],
   "source": [
    "import numpy as np\n",
    "import matplotlib.pyplot as plt\n"
   ]
  },
  {
   "cell_type": "markdown",
   "metadata": {},
   "source": [
    "## Function to return the Rotation Matrix from Euler Angles"
   ]
  },
  {
   "cell_type": "code",
   "execution_count": null,
   "metadata": {},
   "outputs": [],
   "source": [
    "def Rotation(theta1, theta2, theta3):\n",
    "    rotation=np.zeros((3,3))\n",
    "    angles=[theta1, theta2, theta3]\n",
    "    for i in angles:\n",
    "        if i!=0:\n",
    "            theta=np.radians(i)\n",
    "    c, s = np.cos(theta), np.sin(theta)\n",
    "    rotation_sub = np.array(((c, s), (-s, c)))\n",
    "    if angles[0]!=0: #Rotation along Axes-1\n",
    "        rotation[0][0]=1\n",
    "        rotation[1:,1:]=rotation_sub\n",
    "    elif angles[2]!=0: #Rotation along Axes-3\n",
    "        rotation[:2,:2]=rotation_sub\n",
    "        rotation[2][2]=1\n",
    "    else:     #Rotation along Axes-2\n",
    "        rotation[1][1]=1\n",
    "        rotation[0,0],rotation[0,2]=c,s\n",
    "        rotation[2,0],rotation[2,2]=-s,c\n",
    "    return rotation  \n",
    "       "
   ]
  },
  {
   "cell_type": "markdown",
   "metadata": {},
   "source": [
    "## Function to Calculate the Angles from a Transformation Matrix"
   ]
  },
  {
   "cell_type": "code",
   "execution_count": null,
   "metadata": {},
   "outputs": [],
   "source": [
    "def Angles(rotation):\n",
    "    theta2 = np.arccos(rotation[2][2])\n",
    "    theta1 = np.arctan2(rotation[2][0],rotation[2][1])\n",
    "    theta3 = np.arctan2(rotation[0][2],rotation[1][2])\n",
    "    angles = [theta1, theta2, theta3]\n",
    "    return angles"
   ]
  },
  {
   "cell_type": "markdown",
   "metadata": {},
   "source": [
    "## Function and Operators defined to get Input for Bunge Angles 'n' ROT matrix"
   ]
  },
  {
   "cell_type": "code",
   "execution_count": null,
   "metadata": {},
   "outputs": [],
   "source": [
    "def Angle2Rot():\n",
    "    angles = []\n",
    "    for i in range(3):\n",
    "        angles.append(float(input(str('Please Enter the Angle of Rotation number')+str(i+1)+str(': '))))\n",
    "    rotation_matrix = np.zeros((3,3))\n",
    "    rotation_matrix = Rotation(0,0,angles[2]).dot(Rotation(angles[1],0,0)).dot(Rotation(0,0,angles[0]))\n",
    "    return rotation_matrix\n",
    " \n",
    "def Rot2Ang():\n",
    "    euler_angles = []\n",
    "    rotation_mat=[[[] for i in range(3)] for i in range(3)]\n",
    "    for i in range(3):\n",
    "        for j in range(3):\n",
    "            number=float(input(str(\"Please Enter Elements of Matrix A:\")+str(i+1)+str(' row and ')+str(j+1)+str('column: ')))\n",
    "            rotation_mat[i][j]=number\n",
    "    euler_angles = Angles(rotation_mat)\n",
    "    list(map(np.degrees, euler_angles))\n",
    "    return euler_angles\n",
    "\n",
    "switcher = {\n",
    "        2: Angle2Rot,\n",
    "        1: Rot2Ang\n",
    "        }\n",
    " \n",
    " \n",
    "def operation(argument):\n",
    "    # Get the function from switcher dictionary\n",
    "    func = switcher.get(argument, \"Invalid Option\")\n",
    "    # Execute the function\n",
    "    return func()\n"
   ]
  },
  {
   "cell_type": "markdown",
   "metadata": {},
   "source": [
    "## Symmetric Matrix for a Cubic Crystal"
   ]
  },
  {
   "cell_type": "code",
   "execution_count": null,
   "metadata": {},
   "outputs": [],
   "source": [
    "def SymMatCube():\n",
    "    symmetry_operator = np.array([[[1, 0, 0],[0, 1, 0], [0, 0, 1]], [[0, 0, 1], [1, 0, 0], [0, 1, 0]], [[0, 1, 0], [0, 0, 1], [1, 0, 0]],[[0, -1, 0], [0, 0, 1], [-1, 0, 0]], [[0, -1, 0], [0, 0, -1], [1, 0, 0]], [[0, 1, 0], [0, 0, -1], [-1, 0, 0]], [[0, 0, -1], [1, 0, 0], [0, -1, 0]], [[0, 0, -1], [-1, 0, 0], [0, 1, 0]],  [[0, 0, 1], [-1, 0, 0], [0, -1, 0]], [[-1, 0, 0],[0, 1, 0],[0, 0, -1]],[[-1, 0, 0], [0, -1, 0],[0, 0, 1]], [[1,0, 0], [0, -1, 0], [0, 0, -1]], [[0, 0, -1], [0, -1, 0], [-1, 0, 0]], [[0, 0, 1], [0, -1, 0], [1, 0, 0]], [[0, 0, 1], [0, 1, 0], [-1, 0, 0]], [[0, 0, -1], [0, 1, 0], [1, 0, 0]], [[-1, 0, 0], [0, 0, -1], [0, -1, 0]], [[1, 0, 0], [0, 0, -1], [0, 1, 0]], [[1, 0, 0], [0, 0, 1], [0, -1, 0]], [[-1, 0, 0], [0, 0, 1], [0, 1, 0]], [[0, -1, 0], [-1, 0, 0], [0, 0, -1]], [[0, 1, 0], [-1, 0, 0], [0, 0, 1]],[[0, 1, 0], [1, 0, 0], [0, 0, -1]], [[0, -1, 0], [1, 0, 0], [0, 0, 1]]])\n",
    "    return symmetry_operator"
   ]
  },
  {
   "cell_type": "markdown",
   "metadata": {},
   "source": [
    "## Defining all the Symmetric Poles"
   ]
  },
  {
   "cell_type": "code",
   "execution_count": null,
   "metadata": {},
   "outputs": [],
   "source": [
    "def symmetric_poles(symmetry_operator, normalized_pole):\n",
    "        sym_poles = []\n",
    "        for i in range(len(symmetry_operator)):\n",
    "            sym_variable = symmetry_operator[i].dot(normalized_pole.T)\n",
    "            sym_poles.append(sym_variable)\n",
    "        return sym_poles"
   ]
  },
  {
   "cell_type": "markdown",
   "metadata": {},
   "source": [
    "## Configuring Poles in System Axis"
   ]
  },
  {
   "cell_type": "code",
   "execution_count": null,
   "metadata": {},
   "outputs": [],
   "source": [
    "def poles_in_sys_axis(transformation_matrix, sym_normalized_poles):\n",
    "    rotate_sym_poles = []\n",
    "    for i in range(len(sym_normalized_poles)):\n",
    "        rotated_variable = (transformation_matrix.dot(sym_normalized_poles[i]))\n",
    "        rotate_sym_poles.append(rotated_variable)\n",
    "    return(rotate_sym_poles)"
   ]
  },
  {
   "cell_type": "markdown",
   "metadata": {},
   "source": [
    "## Calculating the Stereographic Projections"
   ]
  },
  {
   "cell_type": "code",
   "execution_count": null,
   "metadata": {},
   "outputs": [],
   "source": [
    "def stereographic_proj(rotated_sym_poles):\n",
    "    x = []\n",
    "    y = []\n",
    "    for i in range(len(rotated_sym_poles)):\n",
    "        p_x = rotated_sym_poles[i][0]\n",
    "        p_y = rotated_sym_poles[i][1]\n",
    "        p_z = rotated_sym_poles[i][2]\n",
    "        var_x = (p_x/(p_z+1))\n",
    "        var_y = (p_y/(p_z+1))\n",
    "        x.append(var_x)\n",
    "        y.append(var_y)\n",
    "    return x, y\n"
   ]
  },
  {
   "cell_type": "markdown",
   "metadata": {},
   "source": [
    "## Getting the Input Pole and Caluclating the Norm"
   ]
  },
  {
   "cell_type": "code",
   "execution_count": null,
   "metadata": {},
   "outputs": [],
   "source": [
    "pole = np.array([1, 0, 1.0])\n",
    "normalized_pole = pole / np.linalg.norm(pole)\n",
    "transformation_matrix = Angle2Rot()\n",
    "symmetry_operator = SymMatCube()\n",
    "sym_normalized_poles = symmetric_poles(symmetry_operator, normalized_pole)\n",
    "rotated_sym_poles = poles_in_sys_axis(transformation_matrix, sym_normalized_poles)\n",
    "x_plot, y_plot = stereographic_proj(rotated_sym_poles)"
   ]
  },
  {
   "cell_type": "markdown",
   "metadata": {},
   "source": [
    "## Function to Scatter Plot"
   ]
  },
  {
   "cell_type": "code",
   "execution_count": null,
   "metadata": {},
   "outputs": [],
   "source": [
    "fig, ax = plt.subplots()\n",
    "ax.scatter(x_plot, y_plot)\n",
    "plt.show()"
   ]
  },
  {
   "cell_type": "code",
   "execution_count": null,
   "metadata": {},
   "outputs": [],
   "source": []
  }
 ],
 "metadata": {
  "kernelspec": {
   "display_name": "Python 3",
   "language": "python",
   "name": "python3"
  },
  "language_info": {
   "codemirror_mode": {
    "name": "ipython",
    "version": 3
   },
   "file_extension": ".py",
   "mimetype": "text/x-python",
   "name": "python",
   "nbconvert_exporter": "python",
   "pygments_lexer": "ipython3",
   "version": "3.7.3"
  }
 },
 "nbformat": 4,
 "nbformat_minor": 2
}
