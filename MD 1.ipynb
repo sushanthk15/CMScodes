{
 "cells": [
  {
   "cell_type": "code",
   "execution_count": null,
   "metadata": {},
   "outputs": [],
   "source": [
    "import numpy as np\n",
    "import matplotlib.pyplot as plt"
   ]
  },
  {
   "cell_type": "code",
   "execution_count": null,
   "metadata": {},
   "outputs": [],
   "source": [
    "sigma = 3.40510e-10\n",
    "epsilon = 120*1.38e-23\n",
    "kb = 1.38e-23\n",
    "mass = 39.948*1.66e-27"
   ]
  },
  {
   "cell_type": "code",
   "execution_count": null,
   "metadata": {},
   "outputs": [],
   "source": [
    "def leo_potential(rij, sigma, epsilon):\n",
    "    return 4*epsilon*((sigma/rij)**12 - (sigma/rij)**6)\n",
    "def leo_force(rij, sigma, epsilon):\n",
    "    return 24*epsilon*(2*(sigma/rij)**13 - (sigma/rij)**7)/sigma\n"
   ]
  },
  {
   "cell_type": "code",
   "execution_count": null,
   "metadata": {},
   "outputs": [],
   "source": [
    "def do_time_integration_step(time_step, y_old, dydt):\n",
    "    \"\"\" Perform an explicit Euler time integration step\n",
    "\n",
    "    Parameters\n",
    "    ----------\n",
    "    time_step: time difference between two steps (float)\n",
    "    dydt :     the 1D numpy array dy/dt = [dy1/dt, dy2/dt]\n",
    "    y_old :    1D numpy.ndarrayvector with values from previous time step\n",
    "    \n",
    "\"\"\"\n",
    "    \n",
    "    y_new = y_old + time_step* dydt #!! add your solution here !!\n",
    "    return y_new"
   ]
  },
  {
   "cell_type": "code",
   "execution_count": null,
   "metadata": {},
   "outputs": [],
   "source": [
    "def vector_of_derivatives(y, sigma, epsilon, mass):\n",
    "    \"\"\" Creates a numpy array with the two ODE varialbes y1 and y2\n",
    "\n",
    "    Parameters\n",
    "    ----------\n",
    "    y :  the 1D numpy.ndarray [y1, y2] \n",
    "    sigma, epsilon : the LJ parameter\n",
    "    mass :      atom's mass\n",
    "    \"\"\"\n",
    "    #...       !! add your solution here !!\n",
    "    dydt = []\n",
    "    dy1dt = 24*epsilon*(2*(sigma/y[1])**13 - (sigma/y[1])**7)/(sigma*mass)\n",
    "    dydt.append(dy1dt)\n",
    "    dy2dt = y[0]\n",
    "    dydt.append(dy2dt)\n",
    "    return np.array(dydt)"
   ]
  },
  {
   "cell_type": "code",
   "execution_count": null,
   "metadata": {},
   "outputs": [],
   "source": [
    "# Here are some reasonable parameters and initial values\n",
    "time_step = 1e-16  # s\n",
    "total_time = 4e-12\n",
    "y_init = np.array([0., 1.3 * sigma])"
   ]
  },
  {
   "cell_type": "code",
   "execution_count": null,
   "metadata": {},
   "outputs": [],
   "source": [
    "# Do the time integration in a loop and store the results in a list\n",
    "all_times = np.arange(0, total_time, time_step)\n",
    "\n",
    "y = [y_init]\n",
    "for n in range(40000):\n",
    "    y_old = y[n]\n",
    "    dydt = vector_of_derivatives(y_old, sigma, epsilon, mass)\n",
    "    y_new = do_time_integration_step(time_step, y_old, dydt)\n",
    "    y.append(y_new)\n",
    "    \n",
    "y = np.array(y)  # convert from list to ndarray"
   ]
  },
  {
   "cell_type": "code",
   "execution_count": null,
   "metadata": {},
   "outputs": [],
   "source": [
    "# Do the time integration in a loop and store the results in a list\n",
    "all_times1 = np.arange(0, total_time+time_step, time_step)\n",
    "z = [y_init]\n",
    "for time in all_times1[1:]:\n",
    "    y_old = y[-1]\n",
    "    dydt = vector_of_derivatives(y_old, sigma, epsilon, mass)\n",
    "    y_new = do_time_integration_step(time_step, y_old, dydt)\n",
    "    z.append(y_new)\n",
    "    \n",
    "z = np.array(z)  # convert from list to ndarray\n",
    "z[:100,1]"
   ]
  },
  {
   "cell_type": "code",
   "execution_count": null,
   "metadata": {},
   "outputs": [],
   "source": [
    "fig, ax =plt.subplots()\n",
    "ax.plot(all_times1,z[:,1])\n",
    "ax.set(xlabel='times[s]', ylabel = 'positions [m]')\n",
    "#ax.axhline(r0)"
   ]
  }
 ],
 "metadata": {
  "kernelspec": {
   "display_name": "Python 3",
   "language": "python",
   "name": "python3"
  },
  "language_info": {
   "codemirror_mode": {
    "name": "ipython",
    "version": 3
   },
   "file_extension": ".py",
   "mimetype": "text/x-python",
   "name": "python",
   "nbconvert_exporter": "python",
   "pygments_lexer": "ipython3",
   "version": "3.5.3"
  }
 },
 "nbformat": 4,
 "nbformat_minor": 2
}
