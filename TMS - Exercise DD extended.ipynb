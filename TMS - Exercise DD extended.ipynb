{
 "cells": [
  {
   "cell_type": "code",
   "execution_count": null,
   "metadata": {},
   "outputs": [],
   "source": [
    "import matplotlib.pyplot as plt\n",
    "import numpy as np"
   ]
  },
  {
   "cell_type": "code",
   "execution_count": null,
   "metadata": {},
   "outputs": [],
   "source": [
    "sigma = 2\n",
    "epsilon = 3 \n",
    "mass = 1 #1Kg\n",
    "total_time = 10e-9 #seconds\n",
    "n_steps = 100\n",
    "delta_t = total_time/n_steps #seconds"
   ]
  },
  {
   "cell_type": "code",
   "execution_count": null,
   "metadata": {},
   "outputs": [],
   "source": [
    "def leo_potential(rij, sigma, epsilon):\n",
    "    return 4*epsilon*((sigma/rij)**12 - (sigma/rij)**6)\n",
    "def leo_force(rij, sigma, epsilon):\n",
    "    return 24*epsilon*((sigma/rij)**12 - (sigma/rij)**6)/rij"
   ]
  },
  {
   "cell_type": "code",
   "execution_count": null,
   "metadata": {},
   "outputs": [],
   "source": [
    "dist = sigma*np.linspace(0.01,3,4)\n",
    "time = [0.]\n",
    "x_old = dist\n",
    "positions = [dist]\n",
    "v_old = np.zeros_like(dist)\n",
    "velocity = [v_old]\n",
    "for n in range(n_steps):\n",
    "    for j in dist:\n",
    "        force = leo_force(j, sigma, epsilon)\n",
    "        v_old = v_old + delta_t * force\n",
    "    x_old = x_old + delta_t*v_old\n",
    "    velocity.append(v_old)\n",
    "    positions.append(x_old)\n",
    "    time.append((n+1)*delta_t)"
   ]
  },
  {
   "cell_type": "code",
   "execution_count": null,
   "metadata": {},
   "outputs": [],
   "source": [
    "pos = np.asarray(positions)\n",
    "pos.shape"
   ]
  },
  {
   "cell_type": "code",
   "execution_count": null,
   "metadata": {},
   "outputs": [],
   "source": [
    "plt.plot(pos[:,2],time)\n",
    "plt.title('Positions v/s Time', fontsize=16)\n",
    "plt.xlabel('Positions', fontsize = 16)\n",
    "plt.ylabel('time', fontsize = 16)"
   ]
  },
  {
   "cell_type": "code",
   "execution_count": null,
   "metadata": {},
   "outputs": [],
   "source": [
    "vel = np.asarray(velocity)\n",
    "plt.plot(vel[:,2],time)\n",
    "plt.title('Velocity v/s Time', fontsize=16)\n",
    "plt.xlabel('velocity', fontsize = 16)\n",
    "plt.ylabel('time', fontsize = 16)"
   ]
  }
 ],
 "metadata": {
  "kernelspec": {
   "display_name": "Python 3",
   "language": "python",
   "name": "python3"
  },
  "language_info": {
   "codemirror_mode": {
    "name": "ipython",
    "version": 3
   },
   "file_extension": ".py",
   "mimetype": "text/x-python",
   "name": "python",
   "nbconvert_exporter": "python",
   "pygments_lexer": "ipython3",
   "version": "3.7.3"
  }
 },
 "nbformat": 4,
 "nbformat_minor": 2
}
