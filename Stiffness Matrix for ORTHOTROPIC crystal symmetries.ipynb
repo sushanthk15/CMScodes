{
 "cells": [
  {
   "cell_type": "code",
   "execution_count": 16,
   "metadata": {},
   "outputs": [],
   "source": [
    "import numpy as np\n",
    "import matplotlib.pyplot as plt\n",
    "import sympy as sym\n",
    "from sympy import MatrixSymbol, Matrix"
   ]
  },
  {
   "cell_type": "markdown",
   "metadata": {},
   "source": [
    "## Stiffness Matrix\n",
    "An orthotropic elastic material has three orthogonal symmetry planes. If we choose an orthonormal coordinate system such that the axes coincide with the normals to the three symmetry planes, the transformation matrices are\n",
    "\n",
    "$Q_{1}$ = \\begin{bmatrix}-1&0&0\\\\0&1&0\\\\0&0&1\\end{bmatrix} \n",
    "$Q_{2}$ = \\begin{bmatrix}1&0&0\\\\0&-1&0\\\\0&0&1\\end{bmatrix} \n",
    "$Q_{3}$ = \\begin{bmatrix}1&0&0\\\\0&1&0\\\\0&0&-1\\end{bmatrix} "
   ]
  },
  {
   "cell_type": "code",
   "execution_count": 17,
   "metadata": {},
   "outputs": [],
   "source": [
    "Q1 =   np.array([[ -1,0,0],[0,1,0],[0,0,1]])\n",
    "Q2 =   np.array([[ 1,0,0],[0,-1,0],[0,0,1]])\n",
    "Q3 =   np.array([[ 1,0,0],[0,1,0],[0,0,-1]]) #we consider the reflection A3 along 1-2 plane"
   ]
  },
  {
   "attachments": {},
   "cell_type": "markdown",
   "metadata": {},
   "source": [
    "## Transformation matrix for the stress tensor\n",
    "\n",
    "Orthogonal transformations in linear elasticity include rotations and reflections, but not shape changing transformations and can be represented, in orthonormal coordinates, by a 3x3 matrix given by\n",
    "\n",
    "$A$ =\\begin{bmatrix}A_{11}&A_{12}&A_{13}\\\\A_{21}&A_{22}&A_{23}\\\\A_{31}&A_{32}&A_{33}\\end{bmatrix}\n",
    "\n",
    "In Voigt notation, the transformation matrix for the stress tensor can be expressed as a 6x6 matrix $A_{\\sigma }$ given by:\n",
    "\n",
    "$A_{\\sigma}$ = \\begin{bmatrix}A_{11}^{2}&A_{12}^{2}&A_{13}^{2}&2A_{12}A_{13}&2A_{11}A_{13}&2A_{11}A_{12}\\\\A_{21}^{2}&A_{22}^{2}&A_{23}^{2}&2A_{22}A_{23}&2A_{21}A_{23}&2A_{21}A_{22}\\\\A_{31}^{2}&A_{32}^{2}&A_{33}^{2}&2A_{32}A_{33}&2A_{31}A_{33}&2A_{31}A_{32}\\\\A_{21}A_{31}&A_{22}A_{32}&A_{23}A_{33}&A_{22}A_{33}+A_{23}A_{32}&A_{21}A_{33}+A_{23}A_{31}&A_{21}A_{32}+A_{22}A_{31}\\\\A_{11}A_{31}&A_{12}A_{32}&A_{13}A_{33}&A_{12}A_{33}+A_{13}A_{32}&A_{11}A_{33}+A_{13}A_{31}&A_{11}A_{32}+A_{12}A_{31}\\\\A_{11}A_{21}&A_{12}A_{22}&A_{13}A_{23}&A_{12}A_{23}+A_{13}A_{22}&A_{11}A_{23}+A_{13}A_{21}&A_{11}A_{22}+A_{12}A_{21}\\end{bmatrix} "
   ]
  },
  {
   "cell_type": "code",
   "execution_count": 18,
   "metadata": {},
   "outputs": [],
   "source": [
    "def reflection(A):\n",
    "    Ae = np.array([[ A[0,0]*A[0,0] ,A[0,1]*A[0,1] ,A[0,2]*A[0,2] ,2*A[0,1]*A[0,2] ,2*A[0,0]*A[0,2] ,2*A[0,0]*A[0,1]],\n",
    "    [ A[1,0]*A[1,0] ,A[1,1]*A[1,1] ,A[1,2]*A[1,2] ,2*A[1,1]*A[1,2] ,2*A[1,0]*A[1,2] ,2*A[1,0]*A[1,1]],\n",
    "    [ A[2,0]*A[2,0] ,A[2,1]*A[2,1] ,A[2,2]*A[2,2] ,2*A[2,1]*A[2,2],2*A[2,0]*A[2,2] ,2*A[2,0]*A[2,1]],\n",
    "    [ A[1,0]*A[2,0] ,A[1,1]*A[2,1] ,A[1,2]*A[2,2] ,A[1,1]*A[2,2]+A[1,2]*A[2,1] ,A[1,0]*A[2,2]+A[1,2]*A[2,0] ,A[1,0]*A[2,1]+A[1,1]*A[2,0]],\n",
    "    [ A[0,0]*A[2,0] ,A[0,1]*A[2,1] ,A[0,2]*A[2,2] ,A[0,1]*A[2,2]+A[0,2]*A[2,1] ,A[0,0]*A[2,2]+A[0,2]*A[2,0] ,A[0,0]*A[2,1]+A[0,1]*A[2,0]],\n",
    "    [ A[0,0]*A[1,0] ,A[0,1]*A[1,1] ,A[0,2]*A[1,2] ,A[0,1]*A[1,2]+A[0,2]*A[1,1] ,A[0,0]*A[1,2]+A[0,2]*A[1,0] ,A[0,0]*A[1,1]+A[0,1]*A[1,0]]])\n",
    "    return Ae"
   ]
  },
  {
   "cell_type": "code",
   "execution_count": 19,
   "metadata": {},
   "outputs": [
    {
     "data": {
      "text/latex": [
       "$\\displaystyle \\left[\\begin{matrix}C_{11} & C_{12} & C_{13} & C_{14} & C_{15} & C_{16}\\\\C_{21} & C_{22} & C_{23} & C_{24} & C_{25} & C_{26}\\\\C_{31} & C_{32} & C_{33} & C_{34} & C_{35} & C_{36}\\\\C_{41} & C_{42} & C_{43} & C_{44} & C_{45} & C_{46}\\\\C_{51} & C_{52} & C_{53} & C_{54} & C_{55} & C_{56}\\\\C_{61} & C_{62} & C_{63} & C_{64} & C_{65} & C_{66}\\end{matrix}\\right]$"
      ],
      "text/plain": [
       "Matrix([\n",
       "[C11, C12, C13, C14, C15, C16],\n",
       "[C21, C22, C23, C24, C25, C26],\n",
       "[C31, C32, C33, C34, C35, C36],\n",
       "[C41, C42, C43, C44, C45, C46],\n",
       "[C51, C52, C53, C54, C55, C56],\n",
       "[C61, C62, C63, C64, C65, C66]])"
      ]
     },
     "execution_count": 19,
     "metadata": {},
     "output_type": "execute_result"
    }
   ],
   "source": [
    "C11, C12, C13, C14, C15, C16, C21, C22, C23, C24, C25, C26, C31, C32, C33, C34, C35, C36, C41, C42, C43, C44, C45, C46, C51, C52, C53,C54,C55, C56, C61, C62, C63, C64, C65, C66 = sym.symbols('C11, C12, C13, C14, C15, C16, C21, C22, C23, C24, C25, C26, C31, C32, C33, C34, C35, C36, C41, C42, C43, C44, C45, C46, C51, C52, C53,C54,C55, C56, C61, C62, C63, C64, C65, C66')\n",
    "\n",
    "C = sym.Matrix([[C11, C12, C13, C14, C15, C16],[C21, C22, C23, C24, C25, C26],[C31, C32, C33, C34, C35, C36],[C41, C42, C43, C44, C45, C46],[C51, C52, C53,C54,C55, C56],[C61, C62, C63, C64, C65, C66]])\n",
    "\n",
    "C"
   ]
  },
  {
   "attachments": {},
   "cell_type": "markdown",
   "metadata": {},
   "source": [
    "## Bounds of Symmetry\n",
    "\n",
    "The elastic properties of a continuum are invariant under an orthogonal transformation A if and only if:\n",
    "\n",
    "$C$ = $A_{\\sigma}^{T} . C. A_{\\sigma}$"
   ]
  },
  {
   "cell_type": "code",
   "execution_count": 20,
   "metadata": {},
   "outputs": [
    {
     "data": {
      "text/latex": [
       "$\\displaystyle \\left[\\begin{matrix}C_{11} & C_{12} & C_{13} & 0 & 0 & 0\\\\C_{21} & C_{22} & C_{23} & 0 & 0 & 0\\\\C_{31} & C_{32} & C_{33} & 0 & 0 & 0\\\\0 & 0 & 0 & C_{44} & 0 & 0\\\\0 & 0 & 0 & 0 & C_{55} & 0\\\\0 & 0 & 0 & 0 & 0 & C_{66}\\end{matrix}\\right]$"
      ],
      "text/plain": [
       "Matrix([\n",
       "[C11, C12, C13,   0,   0,   0],\n",
       "[C21, C22, C23,   0,   0,   0],\n",
       "[C31, C32, C33,   0,   0,   0],\n",
       "[  0,   0,   0, C44,   0,   0],\n",
       "[  0,   0,   0,   0, C55,   0],\n",
       "[  0,   0,   0,   0,   0, C66]])"
      ]
     },
     "execution_count": 20,
     "metadata": {},
     "output_type": "execute_result"
    }
   ],
   "source": [
    "S1 = np.transpose(reflection(Q1))*C*(reflection(Q1))\n",
    "S2 = np.transpose(reflection(Q2))*C*(reflection(Q2))\n",
    "S3 = np.transpose(reflection(Q3))*C*(reflection(Q3))\n",
    "St = S1+S2+S3\n",
    "Sortho = St+C\n",
    "Sortho/4"
   ]
  }
 ],
 "metadata": {
  "kernelspec": {
   "display_name": "Python 3",
   "language": "python",
   "name": "python3"
  },
  "language_info": {
   "codemirror_mode": {
    "name": "ipython",
    "version": 3
   },
   "file_extension": ".py",
   "mimetype": "text/x-python",
   "name": "python",
   "nbconvert_exporter": "python",
   "pygments_lexer": "ipython3",
   "version": "3.7.3"
  }
 },
 "nbformat": 4,
 "nbformat_minor": 2
}
