{
 "cells": [
  {
   "cell_type": "code",
   "execution_count": null,
   "metadata": {},
   "outputs": [],
   "source": [
    "import matplotlib.pyplot as plt\n",
    "import numpy as np"
   ]
  },
  {
   "cell_type": "markdown",
   "metadata": {},
   "source": [
    "## Leonard Jones Potential\n",
    "\n",
    "$V_{ij} = 4*\\epsilon*((\\sigma/r_{ij})^{12}-(\\sigma/r_{ij})^{6})$"
   ]
  },
  {
   "cell_type": "code",
   "execution_count": null,
   "metadata": {},
   "outputs": [],
   "source": [
    "sigma = 2\n",
    "epsilon = 3"
   ]
  },
  {
   "cell_type": "code",
   "execution_count": null,
   "metadata": {},
   "outputs": [],
   "source": [
    "def leo_potential(rij, sigma, epsilon):\n",
    "    return 4*epsilon*((sigma/rij)**12 - (sigma/rij)**6)\n",
    "def leo_force(rij, sigma, epsilon):\n",
    "    return 24*epsilon*((sigma/rij)**12 - (sigma/rij)**6)/rij"
   ]
  },
  {
   "cell_type": "code",
   "execution_count": null,
   "metadata": {},
   "outputs": [],
   "source": [
    "dist = sigma*np.linspace(0.01,3,100)"
   ]
  },
  {
   "cell_type": "code",
   "execution_count": null,
   "metadata": {},
   "outputs": [],
   "source": [
    "fig,ax =  plt.subplots()\n",
    "ax.plot(dist, leo_potential(dist, sigma, epsilon) )\n",
    "ax.set(ylim = (-10*epsilon,10*epsilon), xlabel ='distance $r_{ij}$', ylabel ='Potential')\n",
    "ax.set_xlabel('distance $r_{ij}$', fontsize = 16)\n",
    "ax.grid()\n",
    "ax.plot(sigma, 0, marker ='o', color ='0')"
   ]
  },
  {
   "cell_type": "code",
   "execution_count": null,
   "metadata": {},
   "outputs": [],
   "source": [
    "fig,ax =plt.subplots(ncols=2, figsize =(15,5) )#gridspec_kw = ('wspace':0.4)\n",
    "ax[0].plot(dist, leo_potential(dist, sigma, epsilon) )\n",
    "ax[0].set(ylim = (-3*epsilon,3*epsilon), xlabel ='distance $r_{ij}$', ylabel ='Potential')\n",
    "ax[0].set_title('Leonard Jones Potential')\n",
    "ax[1].plot(dist, leo_force(dist, sigma, epsilon))\n",
    "ax[1].set(ylim = (-3*epsilon,3*epsilon), xlabel ='distance $r_{ij}$', ylabel ='Force')\n",
    "ax[1].set_title('Leonard Jones Force')"
   ]
  },
  {
   "cell_type": "code",
   "execution_count": null,
   "metadata": {},
   "outputs": [],
   "source": []
  }
 ],
 "metadata": {
  "kernelspec": {
   "display_name": "Python 3",
   "language": "python",
   "name": "python3"
  },
  "language_info": {
   "codemirror_mode": {
    "name": "ipython",
    "version": 3
   },
   "file_extension": ".py",
   "mimetype": "text/x-python",
   "name": "python",
   "nbconvert_exporter": "python",
   "pygments_lexer": "ipython3",
   "version": "3.7.3"
  }
 },
 "nbformat": 4,
 "nbformat_minor": 2
}
